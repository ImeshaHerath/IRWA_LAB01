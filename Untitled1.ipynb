{
  "metadata": {
    "language_info": {
      "codemirror_mode": {
        "name": "python",
        "version": 3
      },
      "file_extension": ".py",
      "mimetype": "text/x-python",
      "name": "python",
      "nbconvert_exporter": "python",
      "pygments_lexer": "ipython3",
      "version": "3.8"
    },
    "kernelspec": {
      "name": "python",
      "display_name": "Python (Pyodide)",
      "language": "python"
    }
  },
  "nbformat_minor": 4,
  "nbformat": 4,
  "cells": [
    {
      "cell_type": "code",
      "source": "teams = [\"India\", \"England\", \"NZ\", \"Aus\"]\ncaptains = [\"Kohli\",\"Root\",\"Williaamson\", \"Smith\"]\n\nzipped=zip(teams,captains)\nzipped_dict=dict(zipped)\nzipped_dict",
      "metadata": {
        "trusted": true
      },
      "execution_count": 1,
      "outputs": [
        {
          "execution_count": 1,
          "output_type": "execute_result",
          "data": {
            "text/plain": "{'India': 'Kohli', 'England': 'Root', 'NZ': 'Williaamson', 'Aus': 'Smith'}"
          },
          "metadata": {}
        }
      ]
    },
    {
      "cell_type": "code",
      "source": "List1 = [2,4,6,8,10]\n\nx=[i+10 for i in List1]\nprint(x)",
      "metadata": {
        "trusted": true
      },
      "execution_count": 2,
      "outputs": [
        {
          "name": "stdout",
          "text": "[12, 14, 16, 18, 20]\n",
          "output_type": "stream"
        }
      ]
    },
    {
      "cell_type": "code",
      "source": "List1 = [2,4,6,8,10]\nList2=[]\n\nfor i in List1:\n    i+10\n    List2.append(i)\n    \nprint(List2)    ",
      "metadata": {
        "trusted": true
      },
      "execution_count": 3,
      "outputs": [
        {
          "name": "stdout",
          "text": "[2, 4, 6, 8, 10]\n",
          "output_type": "stream"
        }
      ]
    },
    {
      "cell_type": "code",
      "source": "list1 = [10, 20, 30, 40]\nlist2 = [\"Apples\", \"Mangoes\", \"Oranges\", \"Grapes\"]\n\nlist2.reverse()\n\nfor x,y in zip(list1,list2):\n    print(x,y)",
      "metadata": {
        "trusted": true
      },
      "execution_count": 4,
      "outputs": [
        {
          "name": "stdout",
          "text": "10 Grapes\n20 Oranges\n30 Mangoes\n40 Apples\n",
          "output_type": "stream"
        }
      ]
    },
    {
      "cell_type": "code",
      "source": "list1 = [\"a\", \"b\", [\"c\", [\"d\", \"e\", [\"f\", \"g\"], \"k\"], \"l\"], \"m\", \"n\"]\nsub_list = [\"h\", \"i\", \"j\"]\n\nlist1[2][1][2].extend(sub_list)\nprint(list1)   ",
      "metadata": {
        "trusted": true
      },
      "execution_count": 6,
      "outputs": [
        {
          "name": "stdout",
          "text": "['a', 'b', ['c', ['d', 'e', ['f', 'g', 'h', 'i', 'j'], 'k'], 'l'], 'm', 'n']\n",
          "output_type": "stream"
        }
      ]
    },
    {
      "cell_type": "code",
      "source": "list1 = [\"a\", \"b\", [\"c\", [\"d\", \"e\", [\"f\", \"g\"], \"k\"], \"l\"], \"m\", \"n\"]\nsub_list = [\"h\", \"i\", \"j\"]\n\nlist1[2][1][2].append(sub_list)\nprint(list1) ",
      "metadata": {
        "trusted": true
      },
      "execution_count": 7,
      "outputs": [
        {
          "name": "stdout",
          "text": "['a', 'b', ['c', ['d', 'e', ['f', 'g', ['h', 'i', 'j']], 'k'], 'l'], 'm', 'n']\n",
          "output_type": "stream"
        }
      ]
    },
    {
      "cell_type": "code",
      "source": "List1= [10,15,20,15,32,54,15]\n\nfor i in List1:\n    if i == 15:\n        List1.remove(i)\n        \nprint(List1)        \n        ",
      "metadata": {
        "trusted": true
      },
      "execution_count": 8,
      "outputs": [
        {
          "name": "stdout",
          "text": "[10, 20, 32, 54]\n",
          "output_type": "stream"
        }
      ]
    },
    {
      "cell_type": "code",
      "source": "dict_1 = {'John': 15, 'Rick': 10, 'Misa': 12}\ndict_2 = {'Bonnie': 18,'Rick': 20,'Matt': 16}\n\ndict_1.update(dict_2)\nprint(dict_1)",
      "metadata": {
        "trusted": true
      },
      "execution_count": 9,
      "outputs": [
        {
          "name": "stdout",
          "text": "{'John': 15, 'Rick': 20, 'Misa': 12, 'Bonnie': 18, 'Matt': 16}\n",
          "output_type": "stream"
        }
      ]
    },
    {
      "cell_type": "code",
      "source": "d = {0: 0, 1: 1, 2: 2, 3: 3}\n\nk_old=0\nk_new=4\n\nd[k_new]=d.pop(k_old)\nprint(d)",
      "metadata": {
        "trusted": true
      },
      "execution_count": 10,
      "outputs": [
        {
          "name": "stdout",
          "text": "{1: 1, 2: 2, 3: 3, 4: 0}\n",
          "output_type": "stream"
        }
      ]
    },
    {
      "cell_type": "code",
      "source": "country=[\"USA\",\"France\",\"India\"]\ncapital= [\"Washington D.C.\",\"Paris\",\"New Delhi\"]\n\nzipped=zip(country,capital)\nzipped_dict=dict(zipped)\nzipped_dict",
      "metadata": {
        "trusted": true
      },
      "execution_count": 13,
      "outputs": [
        {
          "execution_count": 13,
          "output_type": "execute_result",
          "data": {
            "text/plain": "{'USA': 'Washington D.C.', 'France': 'Paris', 'India': 'New Delhi'}"
          },
          "metadata": {}
        }
      ]
    },
    {
      "cell_type": "code",
      "source": "My_dict = {\"Fruit\": \"Pear\",\n\"Vegetable\": \"Carrot\",\n\"Pet\": \"Cat\",\n\"Book\": \"Moby dick\",\n\"Crystal\": \"Amethyst\"}\nkeysToRemove = [\"Book\", \"Crystal\"]\n\nfor i in keysToRemove:\n    My_dict.pop(i)\n    \nprint(My_dict)    ",
      "metadata": {
        "trusted": true
      },
      "execution_count": 14,
      "outputs": [
        {
          "name": "stdout",
          "text": "{'Fruit': 'Pear', 'Vegetable': 'Carrot', 'Pet': 'Cat'}\n",
          "output_type": "stream"
        }
      ]
    },
    {
      "cell_type": "code",
      "source": "sub_dict = {'math' : 100, 'chem' : 98, 'sci' : 100,'eng':100}\nkey_to_extract = {'math', 'chem','sci'}\n\nextracted_dic={key:sub_dict[key] for key in sub_dict.keys() & key_to_extract}\n\nprint(extracted_dic)",
      "metadata": {
        "trusted": true
      },
      "execution_count": 16,
      "outputs": [
        {
          "name": "stdout",
          "text": "{'chem': 98, 'math': 100, 'sci': 100}\n",
          "output_type": "stream"
        }
      ]
    },
    {
      "cell_type": "code",
      "source": "list1 = [12, 15, 32, 42, 55, 75, 122, 132, 150, 180, 200]\nlist2=[]\n\nfor i in list1:\n    if i%5 == 0:\n        list2.append(i)\n        \nprint(list2)        \n",
      "metadata": {
        "trusted": true
      },
      "execution_count": 18,
      "outputs": [
        {
          "name": "stdout",
          "text": "[15, 55, 75, 150, 180, 200]\n",
          "output_type": "stream"
        }
      ]
    },
    {
      "cell_type": "code",
      "source": "numbers = [12, 75, 150, 180, 145, 525, 50]\n\nfor i in numbers:\n    if i>500:\n        break;\n    elif i > 150:\n        continue\n    elif i % 5 == 0:\n        print(i)",
      "metadata": {
        "trusted": true
      },
      "execution_count": null,
      "outputs": []
    },
    {
      "cell_type": "code",
      "source": "Substrings = \"@W3Resource.Com\"\n\ndef count_chars(str):\n    upper,lower,number,special=0,0,0\n    \n    for i in range(len(str)):\n        if str[i]>='A' and str[i]<='Z':\n            upper+=1\n        elif str[i] >='a' and str[i] <='z':\n            lower+=1\n        elif str[i]>='0' and str[i]<='9':\n            number+=1\n        else:\n            special+=1\n    return upper,lower,number,special  \n\nup,low,num,sp= coun_chars(Substrings)\n\nprint(\"uppercase characters:\" , up)",
      "metadata": {
        "trusted": true
      },
      "execution_count": null,
      "outputs": []
    },
    {
      "cell_type": "code",
      "source": "def calculate_series_sum(n): term = 2 series_sum = 0 for i in range(1, n + 1): series_sum += term print(term, end=\"+\") term = term * 10 + 2 return series_sum n = 5 result = calculate_series_sum(n) print(\"\\nSum of above series is:\", result)",
      "metadata": {
        "trusted": true
      },
      "execution_count": null,
      "outputs": []
    },
    {
      "cell_type": "code",
      "source": "def count_characters(s):\n    upper_count = 0\n    lower_count = 0\n    number_count = 0\n    special_count = 0\n\n \n\n    for char in s:\n        if char.isupper():\n            upper_count += 1\n        elif char.islower():\n            lower_count += 1\n        elif char.isdigit():\n            number_count += 1\n        else:\n            special_count += 1\n\n \n\n    return upper_count, lower_count, number_count, special_count\n\n \n\n \n\ninput_string = \"@W3Resource.Com\"\nupper, lower, number, special = count_characters(input_string)\n\n \n\nprint(\"Original Substring =\", input_string)\nprint(\"Upper case characters:\", upper)\nprint(\"Lower case characters:\", lower)\nprint(\"Number case:\", number)\nprint(\"Special case characters:\", special)",
      "metadata": {
        "trusted": true
      },
      "execution_count": null,
      "outputs": []
    },
    {
      "cell_type": "code",
      "source": "",
      "metadata": {},
      "execution_count": null,
      "outputs": []
    }
  ]
}